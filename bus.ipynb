{
 "cells": [
  {
   "cell_type": "code",
   "execution_count": 7,
   "metadata": {},
   "outputs": [
    {
     "name": "stdout",
     "output_type": "stream",
     "text": [
      "[0, 10, 13, 11, 10, 14, 10, 7, 5, 4]\n",
      "There are 9 on this route.\n",
      "Max occupation: 14\n",
      "Average occupation: 8.4\n",
      "standard deviation of occupation: 4.127953488110059\n"
     ]
    }
   ],
   "source": [
    "import statistics\n",
    "\n",
    "stops = [(10, 0), (4, 1), (3, 5), (3, 4), (5, 1), (1, 5), (5, 8), (4, 6), (2, 3)]\n",
    "bus = [0]\n",
    "\n",
    "for p in stops:\n",
    "    bus.append(bus[-1] + p[0] - p[1])    \n",
    "    \n",
    "print(bus)\n",
    "print(\"There are\", len(stops), \"on this route.\")\n",
    "print(\"Max occupation:\", max(bus))\n",
    "\n",
    "average = sum(bus)/len(bus)\n",
    "print(\"Average occupation:\", average)\n",
    "\n",
    "print(\"standard deviation of occupation:\", statistics.pstdev(bus))"
   ]
  },
  {
   "cell_type": "code",
   "execution_count": null,
   "metadata": {},
   "outputs": [],
   "source": []
  }
 ],
 "metadata": {
  "kernelspec": {
   "display_name": "Python 3",
   "language": "python",
   "name": "python3"
  },
  "language_info": {
   "codemirror_mode": {
    "name": "ipython",
    "version": 3
   },
   "file_extension": ".py",
   "mimetype": "text/x-python",
   "name": "python",
   "nbconvert_exporter": "python",
   "pygments_lexer": "ipython3",
   "version": "3.8.3"
  }
 },
 "nbformat": 4,
 "nbformat_minor": 4
}
