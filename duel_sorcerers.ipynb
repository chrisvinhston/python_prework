{
 "cells": [
  {
   "cell_type": "code",
   "execution_count": 1,
   "metadata": {},
   "outputs": [
    {
     "name": "stdout",
     "output_type": "stream",
     "text": [
      "In the epic battle of Gandalf vs Saruman, The great wizards casted 10.0 spells.\n",
      "\n",
      "Gandalf has cast 6 winning spells\n",
      "Saruman has cast 4 winning spells\n",
      "\n",
      "In the end, Gandalf the white has won the duel\n"
     ]
    }
   ],
   "source": [
    "gandalf = [10, 11, 13, 30, 22, 11, 10, 33, 22, 22]\n",
    "saruman = [23, 66, 12, 43, 12, 10, 44, 23, 12, 17]\n",
    "\n",
    "gandalf_wins = 0\n",
    "saruman_wins = 0\n",
    "\n",
    "spells = (len(gandalf) + len(saruman)) / 2 \n",
    "\n",
    "\n",
    "\n",
    "for g, s in zip(gandalf, saruman):\n",
    "    if g>s:\n",
    "        gandalf_wins += 1\n",
    "    elif s>g:\n",
    "        saruman_wins += 1\n",
    "\n",
    "print(\"In the epic battle of Gandalf vs Saruman, The great wizards casted\", spells, \"spells.\")\n",
    "print(\"\\nGandalf has cast\", gandalf_wins, \"winning spells\" )\n",
    "print(\"Saruman has cast\", saruman_wins, \"winning spells\")\n",
    "\n",
    "if gandalf_wins > saruman_wins:\n",
    "    print(\"\\nIn the end, Gandalf the white has won the duel\")\n",
    "else:\n",
    "    print(\"In the end,Saruman has won the duel\")\n"
   ]
  },
  {
   "cell_type": "code",
   "execution_count": null,
   "metadata": {},
   "outputs": [],
   "source": []
  }
 ],
 "metadata": {
  "kernelspec": {
   "display_name": "Python 3",
   "language": "python",
   "name": "python3"
  },
  "language_info": {
   "codemirror_mode": {
    "name": "ipython",
    "version": 3
   },
   "file_extension": ".py",
   "mimetype": "text/x-python",
   "name": "python",
   "nbconvert_exporter": "python",
   "pygments_lexer": "ipython3",
   "version": "3.8.3"
  }
 },
 "nbformat": 4,
 "nbformat_minor": 4
}
