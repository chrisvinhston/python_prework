{
 "cells": [
  {
   "cell_type": "code",
   "execution_count": 51,
   "metadata": {},
   "outputs": [
    {
     "name": "stdout",
     "output_type": "stream",
     "text": [
      "The lowest temp of the day is 0 c.\n",
      "The highest temp of the day is 39 c.\n",
      "The temps >= 70 are as listed [70, 76, 80, 81, 80, 83, 90, 79]\n",
      "The average temp of the day is 60.25\n",
      "The estimated temp at 3am is 62.0\n"
     ]
    }
   ],
   "source": [
    "temps = [33, 66, 65, 0, 59, 60, 62, 64, 70, 76, 80, 81, 80, 83, 90, 79, 61, 53, 50, 49, 53, 48, 45, 39]\n",
    "\n",
    "\n",
    "x = 70\n",
    "high70 = []\n",
    "avgtemp = (sum(temps)/len(temps))\n",
    "\n",
    "for temp in temps:\n",
    "    if temp >= x:\n",
    "        high70.append(temp)\n",
    "       \n",
    "        \n",
    "print(\"The lowest temp of the day is\", min(temps), 'c.')\n",
    "print(\"The highest temp of the day is\", temps[-1], 'c.')\n",
    "print(\"The temps >= 70 are as listed\", high70)\n",
    "print(\"The average temp of the day is\", avgtemp)\n",
    "print(\"The estimated temp at 3am is\", ((temps[2]+temps[4])/2))\n"
   ]
  },
  {
   "cell_type": "code",
   "execution_count": null,
   "metadata": {},
   "outputs": [],
   "source": []
  }
 ],
 "metadata": {
  "kernelspec": {
   "display_name": "Python 3",
   "language": "python",
   "name": "python3"
  },
  "language_info": {
   "codemirror_mode": {
    "name": "ipython",
    "version": 3
   },
   "file_extension": ".py",
   "mimetype": "text/x-python",
   "name": "python",
   "nbconvert_exporter": "python",
   "pygments_lexer": "ipython3",
   "version": "3.8.3"
  }
 },
 "nbformat": 4,
 "nbformat_minor": 4
}
