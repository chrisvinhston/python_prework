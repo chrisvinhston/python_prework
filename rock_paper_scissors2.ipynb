{
 "cells": [
  {
   "cell_type": "code",
   "execution_count": null,
   "metadata": {},
   "outputs": [],
   "source": [
    "from random import randint\n",
    "\n",
    "gesture = [\"rock\", \"paper\", \"scissors\"]\n",
    "n_rounds = 0\n",
    "rounds_to_win = 3\n",
    "tie = 0\n",
    "cpu_score = 0\n",
    "player_score = 0\n",
    "\n",
    "computer = gesture[randint(0,2)]\n",
    "\n",
    "player = False\n",
    "\n",
    "while n_rounds != rounds_to_win:\n",
    "    player = input(\"\\nChoose Rock, Paper, Scissors?: \")\n",
    "    player = player.lower()\n",
    "    if player == computer:\n",
    "        tie += 1\n",
    "        n_rounds += 1\n",
    "        print(\"-Tie!\", computer, \"vs.\", player)\n",
    "    elif player == \"rock\":\n",
    "        if computer == \"paper\":\n",
    "            cpu_score += 1\n",
    "            n_rounds += 1\n",
    "            print(\"-You lose!\", computer, \"covers\", player)\n",
    "        else:\n",
    "            player_score += 1\n",
    "            n_rounds += 1\n",
    "            print(\"-You win!\", player, \"smashes\", computer)\n",
    "    elif player == \"paper\":\n",
    "        if computer == \"scissors\":\n",
    "            cpu_score += 1\n",
    "            n_rounds += 1\n",
    "            print(\"-You lose!\", computer, \"cut\", player)\n",
    "        else:\n",
    "            player_score += 1\n",
    "            n_rounds += 1\n",
    "            print(\"-You win!\", player, \"covers\", computer)\n",
    "    elif player == \"scissors\":\n",
    "        if computer == \"rock\":\n",
    "            cpu_score += 1\n",
    "            n_rounds += 1\n",
    "            print(\"-You lose...\", computer, \"smashes\", player)\n",
    "        else:\n",
    "            player_score += 1\n",
    "            n_rounds += 1\n",
    "            print(\"-You win!\", player, \"cut\", computer)\n",
    "    else:\n",
    "        print(\"!!please enter rock, paper or scissors!!\\n\")\n",
    "    player = False\n",
    "    computer = gesture[randint(0,2)]\n",
    "    \n",
    "    print(\"\\nround:\", n_rounds)\n",
    "    print(\"Player wins:\", player_score)\n",
    "    print(\"CPU wins:\", cpu_score)\n",
    "    print(\"tie:\", tie)\n",
    "\n",
    "print(\"\\n\\n+-----------GAME OVER!---------------------+\")\n",
    "if player_score > cpu_score:\n",
    "    print(\"You WON! with\", player_score, \"vs. cpu\", cpu_score)\n",
    "else:\n",
    "    print(\"You LOST with\", player_score, \"vs. cpu\", cpu_score)\n",
    "print(\"+------------------------------------------+\")\n"
   ]
  },
  {
   "cell_type": "code",
   "execution_count": null,
   "metadata": {},
   "outputs": [],
   "source": []
  },
  {
   "cell_type": "code",
   "execution_count": null,
   "metadata": {},
   "outputs": [],
   "source": []
  },
  {
   "cell_type": "code",
   "execution_count": null,
   "metadata": {},
   "outputs": [],
   "source": []
  },
  {
   "cell_type": "code",
   "execution_count": null,
   "metadata": {},
   "outputs": [],
   "source": []
  },
  {
   "cell_type": "code",
   "execution_count": null,
   "metadata": {},
   "outputs": [],
   "source": []
  },
  {
   "cell_type": "code",
   "execution_count": null,
   "metadata": {},
   "outputs": [],
   "source": []
  },
  {
   "cell_type": "code",
   "execution_count": null,
   "metadata": {},
   "outputs": [],
   "source": []
  },
  {
   "cell_type": "code",
   "execution_count": null,
   "metadata": {},
   "outputs": [],
   "source": []
  }
 ],
 "metadata": {
  "kernelspec": {
   "display_name": "Python 3",
   "language": "python",
   "name": "python3"
  },
  "language_info": {
   "codemirror_mode": {
    "name": "ipython",
    "version": 3
   },
   "file_extension": ".py",
   "mimetype": "text/x-python",
   "name": "python",
   "nbconvert_exporter": "python",
   "pygments_lexer": "ipython3",
   "version": "3.8.3"
  }
 },
 "nbformat": 4,
 "nbformat_minor": 4
}
