{
 "cells": [
  {
   "cell_type": "code",
   "execution_count": 81,
   "metadata": {},
   "outputs": [
    {
     "name": "stdout",
     "output_type": "stream",
     "text": [
      "Robin Hood has split the arrows of [(-3, 2), (4, 5), (5, 7), (2, 2)]\n",
      "\n",
      "There are 2 arrows in no quadrant which were arrows [(0, 2), (0, -2)]\n",
      "There are 10 arrows in quadrant 1 which were arrows [(4, 5), (4, 7), (4, 5), (3, 2), (5, 7), (2, 2), (5, 7), (5, 7), (2, 2), (9, 9)]\n",
      "There are 6 arrows in quadrant 2 which were arrows [(-5, 7), (-4, 5), (-4, 7), (-1, 3), (-3, 2), (-3, 2)]\n",
      "There are 2 arrows in quadrant 3 which were arrows [(-4, -5), (-8, -9)]\n",
      "There are 2 arrows in quadrant 4 which were arrows [(1, -3), (3, -2)]\n",
      "\n",
      "Arrows closest to bullseye are [(0, 2), (0, -2)]\n",
      "They have a distance of 2.0\n",
      "\n",
      "There were 2 arrows that missed the target, which were [(9, 9), (-8, -9)]\n",
      "They had a distance of [12.727922061357855, 12.041594578792296] from the center.\n"
     ]
    }
   ],
   "source": [
    "import math\n",
    "\n",
    "points = [(4, 5), (-0, 2), (4, 7), (1, -3), (3, -2), (4, 5), (3, 2), (5, 7), (-5, 7), (2, 2), (-4, 5), (0, -2),\n",
    "          (-4, 7), (-1, 3), (-3, 2), (-4, -5), (-3, 2), (5, 7), (5, 7), (2, 2), (9, 9), (-8, -9)]\n",
    "\n",
    "coordaxis = []\n",
    "q1 = []\n",
    "q2 = []\n",
    "q3 = []\n",
    "q4 = []\n",
    "\n",
    "zero = [0,0]\n",
    "d_out = []\n",
    "p_out = []\n",
    "distance = []\n",
    "p_closest = []\n",
    "\n",
    "split = list(set([x for x in points if points.count(x) > 1]))\n",
    "\n",
    "for x,y in points:\n",
    "    if x==0 or y==0:\n",
    "        coordaxis.append(tuple([x,y]))\n",
    "    elif x>0 and y>0:\n",
    "        q1.append(tuple([x,y]))\n",
    "    elif x<0 and y>0 :\n",
    "        q2.append(tuple([x,y]))\n",
    "    elif x<0 and y<0:\n",
    "        q3.append(tuple([x,y]))        \n",
    "    elif x>0 and y<0 :\n",
    "        q4.append(tuple([x,y]))\n",
    "\n",
    "def cal_dist(x, y):\n",
    "    for y in points:\n",
    "        dist = math.sqrt(((x[0]-y[0])**2) + (((x[1]-y[1])**2)))\n",
    "        distance.append(dist)\n",
    "        distance.sort()\n",
    "        if dist <= 2:\n",
    "            p_closest.append(y)\n",
    "            \n",
    "        if dist >=9:\n",
    "            d_out.append(dist)\n",
    "            p_out.append(y)\n",
    "    \n",
    "print(\"Robin Hood has split the arrows of\", split)        \n",
    "print(\"\\nThere are\", len(coordaxis), \"arrows in no quadrant which were arrows\", coordaxis )\n",
    "print(\"There are\", len(q1), \"arrows in quadrant 1 which were arrows\", q1 )\n",
    "print(\"There are\", len(q2), \"arrows in quadrant 2 which were arrows\", q2 )\n",
    "print(\"There are\", len(q3), \"arrows in quadrant 3 which were arrows\", q3 )\n",
    "print(\"There are\", len(q4), \"arrows in quadrant 4 which were arrows\", q4 )    \n",
    "    \n",
    "cal_dist(zero, points)\n",
    "print(\"\\nArrows closest to bullseye are\", p_closest)\n",
    "print(\"They have a distance of\", min(distance))\n",
    "\n",
    "print(\"\\nThere were\", len(p_out), \"arrows that missed the target, which were\", p_out)\n",
    "print(\"They had a distance of\", d_out, \"from the center.\")"
   ]
  },
  {
   "cell_type": "code",
   "execution_count": null,
   "metadata": {},
   "outputs": [],
   "source": []
  }
 ],
 "metadata": {
  "kernelspec": {
   "display_name": "Python 3",
   "language": "python",
   "name": "python3"
  },
  "language_info": {
   "codemirror_mode": {
    "name": "ipython",
    "version": 3
   },
   "file_extension": ".py",
   "mimetype": "text/x-python",
   "name": "python",
   "nbconvert_exporter": "python",
   "pygments_lexer": "ipython3",
   "version": "3.8.3"
  }
 },
 "nbformat": 4,
 "nbformat_minor": 4
}
