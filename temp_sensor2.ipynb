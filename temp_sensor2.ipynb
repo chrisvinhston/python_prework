{
 "cells": [
  {
   "cell_type": "code",
   "execution_count": 7,
   "metadata": {},
   "outputs": [
    {
     "name": "stdout",
     "output_type": "stream",
     "text": [
      "The lowest temp of the day is 33 c.\n",
      "The highest temp of the day is 39 c.\n",
      "The temps >= 70 are as listed [70, 76, 80, 81, 80, 83, 90, 79]\n",
      "The average temp of the day is 60.25\n",
      "\n",
      "The estimated temp at 3am is 62.0\n",
      "So the updated hr. temps are : [33, 66, 65, 62.0, 59, 60, 62, 64, 70, 76, 80, 81, 80, 83, 90, 79, 61, 53, 50, 49, 53, 48, 45, 39]\n"
     ]
    }
   ],
   "source": [
    "temps = [33, 66, 65, 0, 59, 60, 62, 64, 70, 76, 80, 81, 80, 83, 90, 79, 61, 53, 50, 49, 53, 48, 45, 39]\n",
    "\n",
    "\n",
    "x = 70\n",
    "high70 = []\n",
    "avgtemp = (sum(temps)/len(temps))\n",
    "high70 = [temp for temp in temps if temp >= x]\n",
    "\n",
    "for y, z in enumerate(temps):\n",
    "    if z == 0:\n",
    "        temps[y] = ((temps[2]+temps[4])/2)\n",
    "       \n",
    "        \n",
    "print(\"The lowest temp of the day is\", min(temps), 'c.')\n",
    "print(\"The highest temp of the day is\", temps[-1], 'c.')\n",
    "print(\"The temps >= 70 are as listed\", high70)\n",
    "print(\"The average temp of the day is\", avgtemp)\n",
    "print(\"\\nThe estimated temp at 3am is\", ((temps[2]+temps[4])/2))\n",
    "\n",
    "print(\"So the updated hr. temps are :\", temps)"
   ]
  },
  {
   "cell_type": "code",
   "execution_count": null,
   "metadata": {},
   "outputs": [],
   "source": []
  }
 ],
 "metadata": {
  "kernelspec": {
   "display_name": "Python 3",
   "language": "python",
   "name": "python3"
  },
  "language_info": {
   "codemirror_mode": {
    "name": "ipython",
    "version": 3
   },
   "file_extension": ".py",
   "mimetype": "text/x-python",
   "name": "python",
   "nbconvert_exporter": "python",
   "pygments_lexer": "ipython3",
   "version": "3.8.3"
  }
 },
 "nbformat": 4,
 "nbformat_minor": 4
}
