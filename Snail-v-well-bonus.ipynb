{
 "cells": [
  {
   "cell_type": "code",
   "execution_count": 90,
   "metadata": {},
   "outputs": [
    {
     "name": "stdout",
     "output_type": "stream",
     "text": [
      "Snail is on day 1 and has reached 10 cm.\n",
      "Snail is on day 2 and has reached 11 cm.\n",
      "Snail is on day 3 and has reached 24 cm.\n",
      "Snail is on day 4 and has reached 81 cm.\n",
      "Snail is on day 5 and has reached 105 cm.\n",
      "Snail has made it after 6 days and free and feeling WELL!\n",
      "\n",
      "\n",
      "The snail made a maximum progress of 57 cm in a day.\n",
      "The snail made a minimun progress 1 cm in a day.\n",
      "The snail progressed an average of 21.666666666666668 cm in a day.\n",
      "The snials standard deviation is 17.81073334319006\n"
     ]
    }
   ],
   "source": [
    "import math\n",
    "\n",
    "well =125\n",
    "advance_cm = [30, 21, 33, 77, 44, 45, 23, 45, 12, 34, 55]\n",
    "displacements = [x - 20 for x in advance_cm]\n",
    "slides = -20\n",
    "days = 0\n",
    "total_progress = 0\n",
    "position = []\n",
    "movements = 0\n",
    "displacement = []\n",
    "\n",
    "while total_progress < well:\n",
    "    \n",
    "    for advance in advance_cm:\n",
    "        days += 1\n",
    "        total_progress += (advance + slides)\n",
    "        position.append(total_progress)\n",
    "        \n",
    "        movements = (advance - 20)\n",
    "        displacement.append(movements)\n",
    "        \n",
    "        if total_progress < well:\n",
    "            print(\"Snail is on day\", days, \"and has reached\", total_progress, \"cm.\")\n",
    "        else:\n",
    "            print(\"Snail has made it after\", days, \"days and free and feeling WELL!\\n\")\n",
    "            break\n",
    "\n",
    "        \n",
    "print(\"\\nThe snail made a maximum progress of\", max(displacement), \"cm in a day.\")\n",
    "print(\"The snail made a minimun progress\", min(displacement), \"cm in a day.\")\n",
    "print(\"The snail progressed an average of\",sum(displacement)/len(displacement), \"cm in a day.\")\n",
    "\n",
    "print(\"The snials standard deviation is\", statistics.pstdev(displacement))"
   ]
  },
  {
   "cell_type": "code",
   "execution_count": null,
   "metadata": {},
   "outputs": [],
   "source": []
  }
 ],
 "metadata": {
  "kernelspec": {
   "display_name": "Python 3",
   "language": "python",
   "name": "python3"
  },
  "language_info": {
   "codemirror_mode": {
    "name": "ipython",
    "version": 3
   },
   "file_extension": ".py",
   "mimetype": "text/x-python",
   "name": "python",
   "nbconvert_exporter": "python",
   "pygments_lexer": "ipython3",
   "version": "3.8.3"
  }
 },
 "nbformat": 4,
 "nbformat_minor": 4
}
